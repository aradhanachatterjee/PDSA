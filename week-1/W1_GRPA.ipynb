{
 "cells": [
  {
   "cell_type": "markdown",
   "metadata": {},
   "source": [
    "# GRPA - 1\n",
    "\n",
    "Write a function **Find_Min_Difference(L, P)** that accepts a list **L** of integers and **P** (positive integer) where the size of `L` is greater than `P`. The task is to pick `P` different elements from the list `L`, where the difference between the maximum value and the minimum value in selected elements is minimum compared to other differences in possible subset of `P` elements. The function returns this minimum difference value.\n",
    "\n",
    "**Note** - The list can contain more than one subset of p elements that have the same minimum difference value.\n",
    "\n",
    "**Example**\n",
    "\n",
    "Let `L = [3, 4, 1, 9, 56, 7, 9, 12, 13]` and `P = 5`\n",
    "\n",
    "If we see the following two subsets of 5 elements from `L`\n",
    "\n",
    "[3, 4, 7, 9, 9] or [7, 9, 9, 12, 13]\n",
    "\n",
    "Here, the difference between the maximum value and the minimum value in both subset is `9 - 3 = 6` or `13 - 7 = 6` which is minimum. So the output will be `6`."
   ]
  },
  {
   "cell_type": "code",
   "execution_count": 5,
   "metadata": {},
   "outputs": [],
   "source": [
    "def find_Min_Difference(L,P):\n",
    "    for i in range(0, len(L)):\n",
    "        for j in range(i+1, len(L)):\n",
    "            if L[i] >= L[j]:\n",
    "                L[i], L[j] = L[j],L[i]\n",
    "    # L is now sorted in ascending order\n",
    "    min_difference = 10000\n",
    "    for i in range(0, len(L)-P+1):\n",
    "        if L[i+P-1] - L[i] < min_difference:\n",
    "            min_difference = L[i+P-1] - L[i]\n",
    "    return min_difference"
   ]
  },
  {
   "cell_type": "code",
   "execution_count": null,
   "metadata": {},
   "outputs": [],
   "source": [
    "L=eval(input().strip())\n",
    "P=int(input())\n",
    "print(find_Min_Difference(L,P))"
   ]
  },
  {
   "cell_type": "markdown",
   "metadata": {},
   "source": [
    "# GRPA - 2\n",
    "\n",
    "**Goldbach's conjecture** is one of the oldest and best-known unsolved problems in number theory. It states that every even number greater than 2 is the sum of two prime numbers.\n",
    "\n",
    "**For Example:**\n",
    "\n",
    "12 = 5 + 7\n",
    "26 = 3 + 23 or 7 + 19 or 13 + 13\n",
    "\n",
    "Write a function **Goldbach(n)** where `n` is a positive even number `(n > 2)` that returns a list of tuples. In each tuple `(a,b)` where `a <= b`, `a` and `b` should be prime numbers and the sum of `a` and `b` should be equal to `n`."
   ]
  },
  {
   "cell_type": "markdown",
   "metadata": {},
   "source": [
    "**Sample input 1**\n",
    "```python\n",
    "12\n",
    "```\n",
    "**Output**\n",
    "```python\n",
    "[(5,7)]\n",
    "```"
   ]
  },
  {
   "cell_type": "markdown",
   "metadata": {},
   "source": [
    "**Sample input 2**\n",
    "```python\n",
    "26\n",
    "```\n",
    "**Output**\n",
    "```python\n",
    "[(3,23),(7,19),(13,13)]\n",
    "```"
   ]
  },
  {
   "cell_type": "code",
   "execution_count": 2,
   "metadata": {},
   "outputs": [],
   "source": [
    "def prime(n):\n",
    "    result = True\n",
    "    for i in range(2,n):\n",
    "        if n%i == 0:\n",
    "            result = False\n",
    "    return result"
   ]
  },
  {
   "cell_type": "code",
   "execution_count": 12,
   "metadata": {},
   "outputs": [],
   "source": [
    "def Goldbach(n):\n",
    "    primes = []\n",
    "    for i in range(3, n):\n",
    "        if prime(i):\n",
    "            primes.append(i)\n",
    "    tuples = []\n",
    "    for i in primes:\n",
    "        j = n - i\n",
    "        if j in primes:\n",
    "            if i <= j:\n",
    "                tuples.append((i,j))\n",
    "    return tuples"
   ]
  },
  {
   "cell_type": "code",
   "execution_count": 15,
   "metadata": {},
   "outputs": [
    {
     "name": "stdout",
     "output_type": "stream",
     "text": [
      " 26\n"
     ]
    },
    {
     "name": "stdout",
     "output_type": "stream",
     "text": [
      "[(3, 23), (7, 19), (13, 13)]\n"
     ]
    }
   ],
   "source": [
    "n=int(input())\n",
    "print(sorted(Goldbach(n)))"
   ]
  },
  {
   "cell_type": "markdown",
   "metadata": {},
   "source": [
    "# GRPA - 3\n",
    "\n",
    "Write a function named `odd_one(L)` that accepts a list `L` as argument. Except for one element, all other elements in `L` are of the same data type. The function `odd_one` should return the data type of this odd element.\n",
    "\n",
    "For example, if `L` is equal to `[1, 2, 3.4, 5, 10]`, then the function should return the string `float`. This is because the element `3.4` is the odd one here, all other elements are integers.\n",
    "\n",
    "**Note**\n",
    "\n",
    "- `L` has at least three elements.\n",
    "- For each test case, the elements in the list will only be of one of these four types: `int`, `float`, `str`, `bool`.\n",
    "- The function must return one of these four strings: `int`, `float`, `str`, `bool`.\n",
    "- Hint: `type(1) == int` evaluates to `True`."
   ]
  },
  {
   "cell_type": "code",
   "execution_count": 8,
   "metadata": {},
   "outputs": [],
   "source": [
    "def odd_one(L):\n",
    "    types = ['int', 'float', 'str', 'bool']\n",
    "    type_dict = {}\n",
    "    for i in types:\n",
    "        type_dict[i] = 0\n",
    "    for i in L:\n",
    "        if type(i) == int:\n",
    "            type_dict['int'] += 1\n",
    "        elif type(i) == float:\n",
    "            type_dict['float'] += 1\n",
    "        elif type(i) == str:\n",
    "            type_dict['str'] += 1\n",
    "        elif type(i) == bool:\n",
    "            type_dict['bool'] += 1\n",
    "    for i in types:\n",
    "        if type_dict[i] == 1:\n",
    "            return i"
   ]
  },
  {
   "cell_type": "code",
   "execution_count": 7,
   "metadata": {},
   "outputs": [
    {
     "name": "stdout",
     "output_type": "stream",
     "text": [
      "3\n"
     ]
    }
   ],
   "source": [
    "print(odd_one(eval(input().strip())))"
   ]
  },
  {
   "cell_type": "code",
   "execution_count": null,
   "metadata": {},
   "outputs": [],
   "source": []
  }
 ],
 "metadata": {
  "kernelspec": {
   "display_name": "Python 3 (ipykernel)",
   "language": "python",
   "name": "python3"
  },
  "language_info": {
   "codemirror_mode": {
    "name": "ipython",
    "version": 3
   },
   "file_extension": ".py",
   "mimetype": "text/x-python",
   "name": "python",
   "nbconvert_exporter": "python",
   "pygments_lexer": "ipython3",
   "version": "3.12.3"
  },
  "widgets": {
   "application/vnd.jupyter.widget-state+json": {
    "state": {},
    "version_major": 2,
    "version_minor": 0
   }
  }
 },
 "nbformat": 4,
 "nbformat_minor": 4
}
