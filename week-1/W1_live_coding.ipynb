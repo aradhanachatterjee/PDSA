{
 "cells": [
  {
   "cell_type": "markdown",
   "metadata": {},
   "source": [
    "# Week 1 - Live Coding Problem 1\n",
    "\n",
    "A positive integer `m` is a prime product if it can be written as `p x q` where `p` and `q` are both primes. \n",
    "\n",
    "Write a Python function `prime_product(m)` that takes an integer `m` as input and returns `True` if `m` is a prime product and `False` otherwise. (If `m` is not positive, function should return `False`.)"
   ]
  },
  {
   "cell_type": "code",
   "execution_count": 19,
   "metadata": {},
   "outputs": [],
   "source": [
    "def prime(n):\n",
    "    result = True\n",
    "    for i in range(2,n):\n",
    "        if n%i == 0:\n",
    "            result = False\n",
    "    return result\n",
    "def prime_product(m):\n",
    "    if m < 2:\n",
    "        return False\n",
    "    else:\n",
    "        primes_list = []\n",
    "        for i in range(2, (m//2)+1):\n",
    "            if prime(i):\n",
    "                primes_list.append(i)\n",
    "        for i in primes_list:\n",
    "            j = m // i\n",
    "            if j in primes_list:\n",
    "                return True\n",
    "            else:\n",
    "                return False"
   ]
  },
  {
   "cell_type": "code",
   "execution_count": 21,
   "metadata": {},
   "outputs": [],
   "source": [
    "def is_prime(n):\n",
    "    if n <= 1:\n",
    "        return False\n",
    "    if n <= 3:\n",
    "        return True\n",
    "    if n % 2 == 0 or n % 3 == 0:\n",
    "        return False\n",
    "    i = 5\n",
    "    while i * i <= n:\n",
    "        if n % i == 0 or n % (i + 2) == 0:\n",
    "            return False\n",
    "        i += 6\n",
    "    return True\n",
    "\n",
    "def prime_product(m):\n",
    "    if m <= 0:\n",
    "        return False\n",
    "    \n",
    "    for i in range(2, int(m**0.5) + 1):\n",
    "        if m % i == 0:\n",
    "            j = m // i\n",
    "            if is_prime(i) and is_prime(j):\n",
    "                return True\n",
    "    \n",
    "    return False"
   ]
  },
  {
   "cell_type": "code",
   "execution_count": 22,
   "metadata": {},
   "outputs": [
    {
     "name": "stdout",
     "output_type": "stream",
     "text": [
      "True\n",
      "True\n",
      "False\n",
      "True\n",
      "True\n",
      "False\n"
     ]
    }
   ],
   "source": [
    "# Examples\n",
    "print(prime_product(15))  # True, because 15 = 3 * 5\n",
    "print(prime_product(21))  # True, because 21 = 3 * 7\n",
    "print(prime_product(1))   # False, 1 is not a product of two primes\n",
    "print(prime_product(10))  # True, because 10 = 2 * 5\n",
    "print(prime_product(14))  # True, because 14 = 2 * 7\n",
    "print(prime_product(30))  # False, because 30 = 2 * 3 * 5 (more than two primes)"
   ]
  },
  {
   "cell_type": "markdown",
   "metadata": {},
   "source": []
  },
  {
   "cell_type": "markdown",
   "metadata": {},
   "source": []
  },
  {
   "cell_type": "code",
   "execution_count": 20,
   "metadata": {},
   "outputs": [
    {
     "data": {
      "text/plain": [
       "True"
      ]
     },
     "execution_count": 20,
     "metadata": {},
     "output_type": "execute_result"
    }
   ],
   "source": [
    "prime_product(58)"
   ]
  },
  {
   "cell_type": "markdown",
   "metadata": {},
   "source": [
    "# Week 1 - Live Coding Problem 2\n",
    "\n",
    "Write a function `del_char(s, c)` that takes strings `s` and `c` as input where `c` has length 1 (i.e., a single character), and returns the string obtained by deleting all occurrences of character `c` from string `s`. If `c` has length other than 1, the function should return `s`."
   ]
  },
  {
   "cell_type": "code",
   "execution_count": 23,
   "metadata": {},
   "outputs": [],
   "source": [
    "def del_char(s,c):\n",
    "    if len(c) != 1:\n",
    "        return s\n",
    "    else:\n",
    "        new_s = ''\n",
    "        for i in s:\n",
    "            if i != c:\n",
    "                new_s += i\n",
    "        return new_s"
   ]
  },
  {
   "cell_type": "code",
   "execution_count": 24,
   "metadata": {},
   "outputs": [
    {
     "data": {
      "text/plain": [
       "'heo'"
      ]
     },
     "execution_count": 24,
     "metadata": {},
     "output_type": "execute_result"
    }
   ],
   "source": [
    "del_char('hello','l')"
   ]
  },
  {
   "cell_type": "markdown",
   "metadata": {},
   "source": [
    "# Week 1 - Live Coding Problem 3\n",
    "\n",
    "Write a function **shuffle(l1,l2)** that takes two lists, `l1` and `l2` as input, and returns a list consisting of the first element in `l1`, then the first element in `l2`, then the second element in `l1`, then the second element in `l2`, and so on. If the two lists are not of equal length, the remaining elements of the longer list are appended at the end of the shuffled output.\n",
    "\n",
    "**Sample Input**\n",
    "```python\n",
    "[0,2,4]\n",
    "[1,3,5]\n",
    "```\n",
    "**Output**\n",
    "```python\n",
    "[0, 1, 2, 3, 4, 5]\n",
    "```\n",
    "**Sample Input**\n",
    "```python\n",
    "[0,2,4]\n",
    "[1]\n",
    "```\n",
    "**Output**\n",
    "```python\n",
    "[0, 1, 2, 4]\n",
    "```"
   ]
  },
  {
   "cell_type": "code",
   "execution_count": 9,
   "metadata": {},
   "outputs": [],
   "source": [
    "def shuffle(L1, L2):\n",
    "    L = []\n",
    "    while L1 and L2:\n",
    "        L.append(L1.pop(0))\n",
    "        L.append(L2.pop(0))\n",
    "    if L1:\n",
    "        L.extend(L1)\n",
    "    if L2:\n",
    "        L.extend(L2)\n",
    "    return L"
   ]
  },
  {
   "cell_type": "code",
   "execution_count": 10,
   "metadata": {},
   "outputs": [
    {
     "data": {
      "text/plain": [
       "[0, 1, 2, 3, 4, 5]"
      ]
     },
     "execution_count": 10,
     "metadata": {},
     "output_type": "execute_result"
    }
   ],
   "source": [
    "l1 = [0,2,4]\n",
    "l2 = [1,3,5]\n",
    "shuffle(l1,l2)"
   ]
  },
  {
   "cell_type": "code",
   "execution_count": 11,
   "metadata": {},
   "outputs": [
    {
     "data": {
      "text/plain": [
       "[0, 1, 2, 4]"
      ]
     },
     "execution_count": 11,
     "metadata": {},
     "output_type": "execute_result"
    }
   ],
   "source": [
    "l1 = [0,2,4]\n",
    "l2 = [1]\n",
    "shuffle(l1,l2)"
   ]
  },
  {
   "cell_type": "code",
   "execution_count": 12,
   "metadata": {},
   "outputs": [
    {
     "data": {
      "text/plain": [
       "[0, 1, 3, 5]"
      ]
     },
     "execution_count": 12,
     "metadata": {},
     "output_type": "execute_result"
    }
   ],
   "source": [
    "l1 = [0]\n",
    "l2 = [1,3,5]\n",
    "shuffle(l1,l2)"
   ]
  },
  {
   "cell_type": "markdown",
   "metadata": {},
   "source": [
    "# Week 1 - Live Coding Problem 4\n",
    "\n",
    "Write a function **expanding(L)** that takes a list of integers `L` as input and returns `True` if the absolute difference between each adjacent pair of elements strictly increases.\n",
    "\n",
    "**Sample Input**\n",
    "```python\n",
    "[1,3,7,2,9]\n",
    "```\n",
    "**Output**\n",
    "```python\n",
    "True\n",
    "```\n",
    "**Sample Input**\n",
    "```python\n",
    "[1,3,7,2,-3]\n",
    "```\n",
    "**Output**\n",
    "```python\n",
    "False\n",
    "```"
   ]
  },
  {
   "cell_type": "code",
   "execution_count": 13,
   "metadata": {},
   "outputs": [],
   "source": [
    "def expanding(L):\n",
    "    diff = abs(L[1] - L[0])\n",
    "    for i in range(1,len(L)-1):\n",
    "        if abs(L[i+1] - L[i]) <= diff:\n",
    "            return False\n",
    "        diff = abs(L[i+1] - L[i])\n",
    "    return True"
   ]
  },
  {
   "cell_type": "code",
   "execution_count": 14,
   "metadata": {},
   "outputs": [
    {
     "data": {
      "text/plain": [
       "True"
      ]
     },
     "execution_count": 14,
     "metadata": {},
     "output_type": "execute_result"
    }
   ],
   "source": [
    "expanding([1,3,7,2,9])"
   ]
  },
  {
   "cell_type": "code",
   "execution_count": 15,
   "metadata": {},
   "outputs": [
    {
     "data": {
      "text/plain": [
       "False"
      ]
     },
     "execution_count": 15,
     "metadata": {},
     "output_type": "execute_result"
    }
   ],
   "source": [
    "expanding([1,3,7,10,11])"
   ]
  },
  {
   "cell_type": "markdown",
   "metadata": {},
   "source": [
    "# Week 1 - Live Coding Problem 5\n",
    "\n",
    "Write a function `sumsquare(l)` that takes a nonempty list of integers as input and returns a list `[odd, even]`, where `odd` is the sum of squares all the odd numbers in `l` and `even` is the sum of squares of all the even numbers in `l`.\n",
    "\n",
    "**Sample Input**\n",
    "```python\n",
    "[1,3,5]\n",
    "```\n",
    "**Output**\n",
    "```python\n",
    "[35, 0]\n",
    "```\n",
    "**Sample Input**\n",
    "```python\n",
    "[-1,-2,3,7]\n",
    "```\n",
    "**Output**\n",
    "```python\n",
    "[59, 4]\n",
    "```"
   ]
  },
  {
   "cell_type": "code",
   "execution_count": 19,
   "metadata": {},
   "outputs": [],
   "source": [
    "def sumsquare(l):\n",
    "    odd = sum([i**2 for i in l if i%2 != 0])\n",
    "    even = sum([i**2 for i in l if i%2 == 0])\n",
    "    return [odd,even]"
   ]
  },
  {
   "cell_type": "code",
   "execution_count": 20,
   "metadata": {},
   "outputs": [
    {
     "data": {
      "text/plain": [
       "[35, 0]"
      ]
     },
     "execution_count": 20,
     "metadata": {},
     "output_type": "execute_result"
    }
   ],
   "source": [
    "sumsquare([1,3,5])"
   ]
  },
  {
   "cell_type": "code",
   "execution_count": 21,
   "metadata": {},
   "outputs": [
    {
     "data": {
      "text/plain": [
       "[59, 4]"
      ]
     },
     "execution_count": 21,
     "metadata": {},
     "output_type": "execute_result"
    }
   ],
   "source": [
    "sumsquare([-1,-2,3,7])"
   ]
  },
  {
   "cell_type": "markdown",
   "metadata": {},
   "source": [
    "# Week 1 - Live Coding Problem 6\n",
    "\n",
    "Write a function `histogram(l)` that takes as input a list of integers with repetitions and returns a list of pairs as follows:\n",
    "- for each number `n` that appears in `l`, there should be exactly one pair `(n,r)` in the list returned by the function, where `r` is the number of repetitions of `n` in `l`.\n",
    "- the final list should be sorted in ascending order by `r`, the number of repetitions. For numbers that occur with the same number of repetitions, arrange the pairs in ascending order of the value of the number.\n",
    "\n",
    "**Sample Input**\n",
    "```python\n",
    "[13,12,11,13,14,13,7,7,13,14,12]\n",
    "```\n",
    "**Output**\n",
    "```python\n",
    "[(11, 1), (7, 2), (12, 2), (14, 2), (13, 4)]\n",
    "```\n",
    "**Sample Input**\n",
    "```python\n",
    "[13,7,12,7,11,13,14,13,7,11,13,14,12,14,14,7]\n",
    "```\n",
    "**Output**\n",
    "```python\n",
    "[(11, 2), (12, 2), (7, 4), (13, 4), (14, 4)]\n",
    "```"
   ]
  },
  {
   "cell_type": "code",
   "execution_count": 22,
   "metadata": {},
   "outputs": [],
   "source": [
    "def histogram(l):\n",
    "    counts = {}\n",
    "    pairs = []\n",
    "    for i in l:\n",
    "        if i in counts:\n",
    "            counts[i] += 1\n",
    "        else:\n",
    "            counts[i] = 1\n",
    "    for key in counts:\n",
    "        pairs.append((key,counts[key]))\n",
    "\n",
    "    sorted_pairs = sorted(pairs, key=lambda x: (x[1],x[0]))\n",
    "\n",
    "    return sorted_pairs"
   ]
  },
  {
   "cell_type": "code",
   "execution_count": 23,
   "metadata": {},
   "outputs": [
    {
     "data": {
      "text/plain": [
       "[(11, 1), (7, 2), (12, 2), (14, 2), (13, 4)]"
      ]
     },
     "execution_count": 23,
     "metadata": {},
     "output_type": "execute_result"
    }
   ],
   "source": [
    "histogram([13, 12, 11, 13, 14, 13, 7, 7, 13, 14, 12])"
   ]
  },
  {
   "cell_type": "code",
   "execution_count": 24,
   "metadata": {},
   "outputs": [
    {
     "data": {
      "text/plain": [
       "[(11, 2), (12, 2), (7, 4), (13, 4), (14, 4)]"
      ]
     },
     "execution_count": 24,
     "metadata": {},
     "output_type": "execute_result"
    }
   ],
   "source": [
    "histogram([13, 7, 12, 7, 11, 13, 14, 13, 7, 11, 13, 14, 12, 14, 14, 7])"
   ]
  },
  {
   "cell_type": "code",
   "execution_count": null,
   "metadata": {},
   "outputs": [],
   "source": []
  }
 ],
 "metadata": {
  "kernelspec": {
   "display_name": "Python 3",
   "language": "python",
   "name": "python3"
  },
  "language_info": {
   "codemirror_mode": {
    "name": "ipython",
    "version": 3
   },
   "file_extension": ".py",
   "mimetype": "text/x-python",
   "name": "python",
   "nbconvert_exporter": "python",
   "pygments_lexer": "ipython3",
   "version": "3.12.3"
  }
 },
 "nbformat": 4,
 "nbformat_minor": 2
}
