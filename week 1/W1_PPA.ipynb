{
 "cells": [
  {
   "cell_type": "markdown",
   "metadata": {},
   "source": [
    "# PPA 1\n",
    "\n",
    "**Twin primes** are pairs of prime numbers that differ by 2. For example (3, 5), (5, 7), and (11,13) are twin primes.\n",
    "\n",
    "Write a function `Twin_Primes(n, m)` where `n` and `m` are positive integers and `n < m` , that returns all unique twin primes between `m` and `n` (both inclusive). The function returns a list of tuples and each tuple `(a,b)` represents one unique twin prime where `n <= a < b <= m`."
   ]
  },
  {
   "cell_type": "code",
   "execution_count": 1,
   "metadata": {},
   "outputs": [],
   "source": [
    "# prime number checker\n",
    "def prime(n):\n",
    "    result = True\n",
    "    for i in range(2,n):\n",
    "        if n%i == 0:\n",
    "            result = False\n",
    "    return result"
   ]
  },
  {
   "cell_type": "code",
   "execution_count": 4,
   "metadata": {},
   "outputs": [],
   "source": [
    "def Twin_Primes(n,m):\n",
    "    twin_primes_list = []\n",
    "    primes_list = []\n",
    "    for i in range (n,m+1):\n",
    "        if prime(i):\n",
    "            primes_list.append(i)\n",
    "    lastprime = primes_list[0]\n",
    "    pd = {}\n",
    "    for i in primes_list[1:]:\n",
    "        d = i - lastprime\n",
    "        if d == 2:\n",
    "            twin_primes_list.append((lastprime,i))\n",
    "        lastprime = i\n",
    "        primes_list = primes_list[1:]\n",
    "    return twin_primes_list"
   ]
  },
  {
   "cell_type": "code",
   "execution_count": 5,
   "metadata": {},
   "outputs": [
    {
     "data": {
      "text/plain": [
       "[(3, 5), (5, 7), (11, 13)]"
      ]
     },
     "execution_count": 5,
     "metadata": {},
     "output_type": "execute_result"
    }
   ],
   "source": [
    "Twin_Primes(1,15)"
   ]
  },
  {
   "cell_type": "code",
   "execution_count": null,
   "metadata": {},
   "outputs": [],
   "source": [
    "n=int(input())\n",
    "m=int(input())\n",
    "print(sorted(Twin_Primes(n, m)))"
   ]
  },
  {
   "cell_type": "markdown",
   "metadata": {},
   "source": [
    "All public and private tests passed."
   ]
  },
  {
   "cell_type": "markdown",
   "metadata": {},
   "source": [
    "# PPA 2\n",
    "\n",
    "Create a **Triangle** class that accepts three side-lengths of the triangle as `a`, `b` and `c` as parameters at the time of object creation. Class **Triangle** should have the following methods:\n",
    "\n",
    "- **Is_valid()** :- Returns valid if triangle is `Valid` otherwise returns `Invalid`.\n",
    "    - A triangle is valid when the sum of its two side-length are greater than the third one. That means the triangle is valid if all three condition are satisfied:\n",
    "        - a + b > c.\n",
    "        - a + c > b.\n",
    "        - b + c > a.\n",
    "\n",
    "- **Side_Classification()** :- If the triangle is invalid then return `Invalid`. Otherwise, it returns the type of triangle according to the sides of the triangle as follows:\n",
    "    - Return `Equilateral` if all sides are of equal length.\n",
    "    - Return `Isosceles` if any two sides are of equal length and third is different.\n",
    "    - Return `Scalene` if all sides are of different lengths.\n",
    "\n",
    "- **Angle_Classification()** :- If the triangle is invalid then return `Invalid`. Otherwise, return type of triangle using Pythagoras theorem.\n",
    "    For example if `a <= b <= c`. then\n",
    "    - If `a**2 + b**2 > c**2` return `Acute`\n",
    "    - If `a**2 + b**2 = c**2` return `Right`\n",
    "    - If `a**2 + b**2 < c**2` return `Obtuse`\n",
    "    \n",
    "    In the formula of angle classification, the square of the largest side length should be compared to the sum of squares of the other two side lengths.\n",
    "    \n",
    "- **Area()** :- If the triangle is invalid then return `Invalid`. Otherwise, return the area of the triangle.\n",
    "    - `area = (s*(s-a)*(s-b)*(s-c))**(0.5)`\n",
    "\n",
    "    where `s = (a+b+c)/2`"
   ]
  },
  {
   "cell_type": "code",
   "execution_count": 2,
   "metadata": {},
   "outputs": [],
   "source": [
    "class Triangle():\n",
    "    def __init__(self, a, b, c):\n",
    "        self.a = a\n",
    "        self.b = b\n",
    "        self.c = c\n",
    "    \n",
    "    def Is_valid(self):\n",
    "        self.valid = False\n",
    "        if self.a + self.b > self.c and self.a + self.c > self.b and self.b + self.c > self.a:\n",
    "            self.valid = True\n",
    "            return 'Valid'\n",
    "        else:\n",
    "            return 'Invalid'\n",
    "    \n",
    "    def Side_Classification(self):\n",
    "        if self.valid:\n",
    "            if self.a == self.b and self.b == self.c:\n",
    "                return \"Equilateral\"\n",
    "            elif self.a == self.b or self.b == self.c or self.a == self.c:\n",
    "                return \"Isosceles\"\n",
    "            else:\n",
    "                return \"Scalene\"\n",
    "        else:\n",
    "            return \"Invalid\"\n",
    "    \n",
    "    def Angle_Classification(self):\n",
    "        if self.valid:\n",
    "            if self.a**2 + self.b**2 == self.c**2 or self.a**2 + self.c**2 == self.b**2 or self.b**2 + self.c**2 == self.a**2:\n",
    "                return \"Right\"\n",
    "            elif self.a**2 + self.b**2 < self.c**2 or self.a**2 + self.c**2 < self.b**2 or self.b**2 + self.c**2 < self.a**2:\n",
    "                return \"Obtuse\"\n",
    "            else:\n",
    "                return \"Acute\"\n",
    "        else:\n",
    "            return \"Invalid\"\n",
    "    \n",
    "    def Area(self):\n",
    "        if self.valid:\n",
    "            s = (self.a + self.b + self.c)/2\n",
    "            return (s*(s-self.a)*(s-self.b)*(s-self.c))**0.5\n",
    "        else:\n",
    "            return \"Invalid\""
   ]
  },
  {
   "cell_type": "code",
   "execution_count": null,
   "metadata": {},
   "outputs": [],
   "source": [
    "a=int(input())\n",
    "b=int(input())\n",
    "c=int(input())\n",
    "T=Triangle(a,b,c)\n",
    "print(T.Is_valid())\n",
    "print(T.Side_Classification())\n",
    "print(T.Angle_Classification())\n",
    "print(T.Area())"
   ]
  },
  {
   "cell_type": "markdown",
   "metadata": {},
   "source": [
    "All public and private tests passed."
   ]
  },
  {
   "cell_type": "markdown",
   "metadata": {},
   "source": []
  }
 ],
 "metadata": {
  "kernelspec": {
   "display_name": "Python 3",
   "language": "python",
   "name": "python3"
  },
  "language_info": {
   "codemirror_mode": {
    "name": "ipython",
    "version": 3
   },
   "file_extension": ".py",
   "mimetype": "text/x-python",
   "name": "python",
   "nbconvert_exporter": "python",
   "pygments_lexer": "ipython3",
   "version": "3.12.3"
  }
 },
 "nbformat": 4,
 "nbformat_minor": 2
}
