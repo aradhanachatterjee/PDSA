{
 "cells": [
  {
   "cell_type": "markdown",
   "id": "0a8d99d3-32fc-44a5-91cb-97a41f9ab9da",
   "metadata": {},
   "source": [
    "# Week 1 - Lectures"
   ]
  },
  {
   "cell_type": "markdown",
   "id": "1c637280-be16-42f9-a039-3bff3dac14dc",
   "metadata": {},
   "source": [
    "# L 1.3: Python Recap 1"
   ]
  },
  {
   "cell_type": "markdown",
   "id": "ba4eb34d",
   "metadata": {},
   "source": [
    "`gcd(m,n)` - greatest common divisor\n",
    "- Largest `k` that divides both `m` and `n`\n",
    "- `gcd(8,12) = 4`\n",
    "- `gcd(8,13) = 1`\n",
    "- Also *hcf* - highest common factor\n",
    "\n",
    "`gcd(m,n)` always exists\n",
    "- `1` divides both `m` and `n`"
   ]
  },
  {
   "cell_type": "code",
   "execution_count": 1,
   "id": "374239fc-bbdd-44f5-b83b-c89181f2b239",
   "metadata": {},
   "outputs": [],
   "source": [
    "# my (naive) approach\n",
    "def gcd(m,n):\n",
    "    # get factors of both numbers and store them in lists\n",
    "    m_factors = []\n",
    "    n_factors = []\n",
    "    for i in range(1,m+1):\n",
    "        if m % i == 0:\n",
    "            m_factors.append(i)\n",
    "    for i in range(1,n+1):\n",
    "        if n % i == 0:\n",
    "            n_factors.append(i)\n",
    "    # find common factors\n",
    "    common_factors = []\n",
    "    for i in m_factors:\n",
    "        if i in n_factors:\n",
    "            common_factors.append(i)\n",
    "    # return the largest common factor\n",
    "    return common_factors[-1]"
   ]
  },
  {
   "cell_type": "code",
   "execution_count": 3,
   "id": "3f1eba7a-3ea1-48ee-b2b1-6fa04832bc83",
   "metadata": {},
   "outputs": [
    {
     "name": "stdout",
     "output_type": "stream",
     "text": [
      "3\n",
      "3\n",
      "8\n",
      "1\n"
     ]
    }
   ],
   "source": [
    "# check if the function works\n",
    "print(gcd(12,15))\n",
    "print(gcd(9,12))\n",
    "print(gcd(16,24))\n",
    "print(gcd(17,23))"
   ]
  },
  {
   "cell_type": "markdown",
   "id": "c40135ab-7b77-41f4-9194-4e7aaab17b3c",
   "metadata": {},
   "source": [
    "### lecture's approach\n",
    "\n",
    "Computing `gcd(m,n)`\n",
    "- `gcd(m,n) <= min(m,n)`\n",
    "- Compute the list of common factors from 1 to `min(m,n)`\n",
    "- Return the last such common factor"
   ]
  },
  {
   "cell_type": "code",
   "execution_count": 7,
   "id": "047e6436",
   "metadata": {},
   "outputs": [],
   "source": [
    "def gcd(m,n):\n",
    "    cf = [] # list of common factors\n",
    "    for i in range(1, min(m,n)+1):\n",
    "        if (m%i) == 0 and (n%i) == 0:\n",
    "            cf.append(i)\n",
    "    return cf[-1]"
   ]
  },
  {
   "cell_type": "markdown",
   "id": "365df749-d38d-4bfc-9aea-f426f1b067cd",
   "metadata": {},
   "source": [
    "**Points to note**\n",
    "\n",
    "- Need to initialize `cf` for `cf.append()` to work\n",
    "  - Variables (names) derive their type from the value they hold\n",
    "\n",
    "- Control flow\n",
    "  - Conditionals (`if`)\n",
    "  - Loops (`for`)\n",
    "\n",
    "- `range(i,j)` runs from `i` to `j-1`\n",
    "\n",
    "- List indices run from `0` to `len(list)-1` and backwards from `-1` to `-len(list)`"
   ]
  },
  {
   "cell_type": "markdown",
   "id": "707487a1",
   "metadata": {},
   "source": [
    "### Another approach\n",
    "\n",
    "**Eliminate the list**\n",
    "- Only the last value of `cf` is important\n",
    "- Keep track of most recent common factor (`mrcf`)"
   ]
  },
  {
   "cell_type": "code",
   "execution_count": 8,
   "id": "63ebe531",
   "metadata": {},
   "outputs": [],
   "source": [
    "def gcd(m,n):\n",
    "    for i in range(1, min(m,n)+1):\n",
    "        if (m%i) == 0 and (n%i) == 0:\n",
    "            mrcf = i\n",
    "    return mrcf"
   ]
  },
  {
   "cell_type": "markdown",
   "id": "570e281e",
   "metadata": {},
   "source": [
    "Recall that `1` is always a common factor\n",
    "- No need to initialize `mrcf`"
   ]
  },
  {
   "cell_type": "markdown",
   "id": "7b6526c6",
   "metadata": {},
   "source": [
    "**Efficiency**\n",
    "- Both versions of `gcd` take time proportional to `min(m,n)`"
   ]
  },
  {
   "cell_type": "markdown",
   "id": "3c15784f",
   "metadata": {},
   "source": [
    "# L 1.4: Python Recap 2"
   ]
  },
  {
   "cell_type": "markdown",
   "id": "4f54e94d",
   "metadata": {},
   "source": [
    "**Checking primality**\n",
    "\n",
    "- A prime number `n` has exactly two factors: `1` and `n`\n",
    "  - Note that `1` is *not* a prime number"
   ]
  },
  {
   "cell_type": "code",
   "execution_count": 1,
   "id": "6ebddeaf",
   "metadata": {},
   "outputs": [],
   "source": [
    "# my approach\n",
    "\n",
    "def get_factors_list(n):\n",
    "    factors = [1]\n",
    "    for i in range (2, n+1):\n",
    "        if n%i==0:\n",
    "            factors.append(i)\n",
    "    return factors\n",
    "\n",
    "def is_prime(n):\n",
    "    factors = get_factors_list(n)\n",
    "    if len(factors) > 2:\n",
    "        return False\n",
    "    else:\n",
    "        if factors[-1] == n: # extra check\n",
    "            return True"
   ]
  },
  {
   "cell_type": "code",
   "execution_count": 3,
   "id": "a98f1457",
   "metadata": {},
   "outputs": [
    {
     "name": "stdout",
     "output_type": "stream",
     "text": [
      "False\n",
      "True\n",
      "True\n",
      "False\n"
     ]
    }
   ],
   "source": [
    "print(is_prime(12))\n",
    "print(is_prime(13))\n",
    "print(is_prime(17))\n",
    "print(is_prime(21))\n"
   ]
  },
  {
   "cell_type": "markdown",
   "id": "c8880384",
   "metadata": {},
   "source": [
    "### lecture approach\n",
    "\n",
    "- Compute the list of factors of `n`\n",
    "- `n` is a prime if the list of factors is precisely `[1,n]`"
   ]
  },
  {
   "cell_type": "code",
   "execution_count": 9,
   "id": "14c9ce20",
   "metadata": {},
   "outputs": [],
   "source": [
    "def factors(n):\n",
    "    fl = [] # factor list\n",
    "    for i in range(1, n+1):\n",
    "        if (n%i) == 0:\n",
    "            fl.append(i)\n",
    "    return (fl)\n",
    "\n",
    "def prime(n):\n",
    "    return (factors(n) == [1,n])"
   ]
  },
  {
   "cell_type": "markdown",
   "id": "0108aa25",
   "metadata": {},
   "source": [
    "**Counting primes**\n",
    "\n",
    "- List all primes upto `m`"
   ]
  },
  {
   "cell_type": "code",
   "execution_count": 10,
   "id": "4c12cbc2",
   "metadata": {},
   "outputs": [],
   "source": [
    "# my approach\n",
    "\n",
    "def primesupto(m):\n",
    "    primes = []\n",
    "    for i in range (2, m+1):\n",
    "        if prime(i):\n",
    "            primes.append(i)\n",
    "    return primes"
   ]
  },
  {
   "cell_type": "markdown",
   "id": "8fd6eefb",
   "metadata": {},
   "source": [
    "- List first `m` primes"
   ]
  },
  {
   "cell_type": "code",
   "execution_count": 11,
   "id": "1ecdce64",
   "metadata": {},
   "outputs": [],
   "source": [
    "def firstprimes(m):\n",
    "    (count,i,pl) = (0,1,[])\n",
    "    while (count < m):\n",
    "        if prime(i):\n",
    "            (count,pl) = (count+1,pl+[i])\n",
    "        i = i+1\n",
    "    return (pl)"
   ]
  },
  {
   "cell_type": "markdown",
   "id": "3292de79",
   "metadata": {},
   "source": [
    "**Another approach**\n",
    "\n",
    "- Directly check if `n` has a factor between `2` and `n-1`"
   ]
  },
  {
   "cell_type": "code",
   "execution_count": 1,
   "id": "d4f8c599",
   "metadata": {},
   "outputs": [],
   "source": [
    "def prime(n):\n",
    "    result = True\n",
    "    for i in range(2,n):\n",
    "        if n%i == 0:\n",
    "            result = False\n",
    "    return result"
   ]
  },
  {
   "cell_type": "markdown",
   "id": "e122bd08",
   "metadata": {},
   "source": [
    "- Terminate check after we find the first factor\n",
    "  - Breaking out of a loop"
   ]
  },
  {
   "cell_type": "code",
   "execution_count": 2,
   "id": "bab2061d",
   "metadata": {},
   "outputs": [],
   "source": [
    "def prime(n):\n",
    "    result = True\n",
    "    for i in range(2,n):\n",
    "        if n%i == 0:\n",
    "            result = False\n",
    "            break # Abort loop\n",
    "    return result"
   ]
  },
  {
   "cell_type": "markdown",
   "id": "17d6db04",
   "metadata": {},
   "source": [
    "- Alternatively, use `while`"
   ]
  },
  {
   "cell_type": "code",
   "execution_count": 3,
   "id": "200de23a",
   "metadata": {},
   "outputs": [],
   "source": [
    "def prime(n):\n",
    "    (result,i) = (True,2)\n",
    "    while (result and (i<n)):\n",
    "        if (n%i) == 0:\n",
    "            result = False\n",
    "        i = i+1\n",
    "    return result"
   ]
  },
  {
   "cell_type": "markdown",
   "id": "2753f340",
   "metadata": {},
   "source": [
    "- Speeding things up\n",
    "  - Factors occur in pairs\n",
    "  - Sufficient to check factors upto `sqrt(n)`\n",
    "  - If `n` is prime, scan `2,...,sqrt(n)` instead of `2,...,n-1`"
   ]
  },
  {
   "cell_type": "code",
   "execution_count": 4,
   "id": "3a71e73c",
   "metadata": {},
   "outputs": [],
   "source": [
    "import math\n",
    "def prime(n):\n",
    "    (result,i) = (True,2)\n",
    "    while (result and (i < math.sqrt(n))):\n",
    "        if (n%i) == 0:\n",
    "            result = False\n",
    "        i = i+1\n",
    "    return result"
   ]
  },
  {
   "cell_type": "markdown",
   "id": "388a5496",
   "metadata": {},
   "source": [
    "Two prime numbers are *twin primes* if they have a difference of `2`.\n",
    "\n",
    "- Twin primes: `p`, `p+2`\n",
    "- Compute the differences between primes\n",
    "- use a dictionary\n",
    "- Start checking from `3`, since `2` is the smallest prime"
   ]
  },
  {
   "cell_type": "code",
   "execution_count": 5,
   "id": "70e18474",
   "metadata": {},
   "outputs": [],
   "source": [
    "def primediffs(n):\n",
    "    lastprime = 2\n",
    "    pd = {} # dictionary for prime differences\n",
    "    for i in range(3, n+1):\n",
    "        if prime(i):\n",
    "            d = i - lastprime\n",
    "            lastprime = i\n",
    "            if d in pd.keys():\n",
    "                pd[d] = pd[d] + 1\n",
    "            else:\n",
    "                pd[d] = 1\n",
    "    return(pd)"
   ]
  },
  {
   "cell_type": "markdown",
   "id": "02c0aa01",
   "metadata": {},
   "source": [
    "# L 1.5: Python Recap 3"
   ]
  },
  {
   "cell_type": "markdown",
   "id": "f473f474",
   "metadata": {},
   "source": [
    "### Computing gcd\n",
    "\n",
    "- Both versions of `gcd` take time proportional to `min(m,n)`\n",
    "\n",
    "- Suppose `d` divides `m` and `n`\n",
    "  - `m = ad`, `n = bd`\n",
    "  - `m - n = (a - b)d`\n",
    "  - `d` also divides `m - n`"
   ]
  },
  {
   "cell_type": "code",
   "execution_count": null,
   "id": "75123c19",
   "metadata": {},
   "outputs": [],
   "source": [
    "# gcd functions from the previous lecture 1.3\n",
    "def gcd(m,n):\n",
    "    cf = [] # list of common factors\n",
    "    for i in range(1, min(m,n)+1):\n",
    "        if (m%i) == 0 and (n%i) == 0:\n",
    "            cf.append(i)\n",
    "    return cf[-1]\n",
    "\n",
    "def gcd(m,n):\n",
    "    for i in range(1, min(m,n)+1):\n",
    "        if (m%i) == 0 and (n%i) == 0:\n",
    "            mrcf = i\n",
    "    return mrcf"
   ]
  },
  {
   "cell_type": "markdown",
   "id": "bfe6599f",
   "metadata": {},
   "source": [
    "- Recursively defined function\n",
    "  - Base case: `n` divides `m`, answer is `n`\n",
    "  - Otherwise, reduce `gcd(m,n)` to `gcd(n,m-n)`"
   ]
  },
  {
   "cell_type": "code",
   "execution_count": 6,
   "id": "fd3ff72c",
   "metadata": {},
   "outputs": [],
   "source": [
    "# efficient gcd\n",
    "\n",
    "def gcd(m,n):\n",
    "    (a,b) = (max(m,n), min(m,n))\n",
    "    if a%b == 0:\n",
    "        return(b)\n",
    "    else:\n",
    "        return(gcd(b,a-b))"
   ]
  },
  {
   "cell_type": "code",
   "execution_count": 8,
   "id": "69a74a5e",
   "metadata": {},
   "outputs": [
    {
     "name": "stdout",
     "output_type": "stream",
     "text": [
      "3\n",
      "3\n",
      "8\n",
      "1\n"
     ]
    }
   ],
   "source": [
    "# check if the function works\n",
    "print(gcd(12,15))\n",
    "print(gcd(9,12))\n",
    "print(gcd(16,24))\n",
    "print(gcd(17,23))"
   ]
  },
  {
   "cell_type": "markdown",
   "id": "ff5d09a2",
   "metadata": {},
   "source": [
    "- Unfortunately, this takes time proportional to `max(m,n)`"
   ]
  },
  {
   "cell_type": "markdown",
   "id": "8d738511",
   "metadata": {},
   "source": [
    "### Euclid's Algorithm\n",
    "\n",
    "- Suppose `n` does not divide `m`\n",
    "- Then `m = qn + r`\n",
    "- Suppose `d` divides both `n` and `m`\n",
    "- Then `m = ad`, `n = bd`\n",
    "- `m = qn + r -> ad = q(bd) + r`\n",
    "- `r` must be of the form `cd`\n",
    "\n",
    "- **Euclid's Algorithm**\n",
    "  - If `n` divides `m`, `gcd(m,n) = n`\n",
    "  - Otherwise, compute `gcd(n,m mod n)`"
   ]
  },
  {
   "cell_type": "code",
   "execution_count": 1,
   "id": "1242e4fa",
   "metadata": {},
   "outputs": [],
   "source": [
    "def gcd(m,n):\n",
    "    (a,b) = (max(m,n), min(m,n))\n",
    "    if a%b == 0:\n",
    "        return(b)\n",
    "    else:\n",
    "        return(gcd(b,a%b))"
   ]
  },
  {
   "cell_type": "markdown",
   "id": "da498dcf",
   "metadata": {},
   "source": [
    "- Can show that this takes time proportional to number of digits in `max(m,n)`"
   ]
  },
  {
   "cell_type": "code",
   "execution_count": null,
   "id": "d018af10",
   "metadata": {},
   "outputs": [],
   "source": []
  }
 ],
 "metadata": {
  "kernelspec": {
   "display_name": "Python 3 (ipykernel)",
   "language": "python",
   "name": "python3"
  },
  "language_info": {
   "codemirror_mode": {
    "name": "ipython",
    "version": 3
   },
   "file_extension": ".py",
   "mimetype": "text/x-python",
   "name": "python",
   "nbconvert_exporter": "python",
   "pygments_lexer": "ipython3",
   "version": "3.12.3"
  },
  "widgets": {
   "application/vnd.jupyter.widget-state+json": {
    "state": {},
    "version_major": 2,
    "version_minor": 0
   }
  }
 },
 "nbformat": 4,
 "nbformat_minor": 5
}
