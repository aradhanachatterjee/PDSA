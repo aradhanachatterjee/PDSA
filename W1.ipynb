{
 "cells": [
  {
   "cell_type": "markdown",
   "id": "0a8d99d3-32fc-44a5-91cb-97a41f9ab9da",
   "metadata": {},
   "source": [
    "# Week 1 - Lectures"
   ]
  },
  {
   "cell_type": "markdown",
   "id": "1c637280-be16-42f9-a039-3bff3dac14dc",
   "metadata": {},
   "source": [
    "# L 1.3: Python Recap 1"
   ]
  },
  {
   "cell_type": "markdown",
   "id": "ba4eb34d",
   "metadata": {},
   "source": [
    "`gcd(m,n)` - greatest common divisor\n",
    "- Largest `k` that divides both `m` and `n`\n",
    "- `gcd(8,12) = 4`\n",
    "- `gcd(8,13) = 1`\n",
    "- Also *hcf* - highest common factor\n",
    "\n",
    "`gcd(m,n)` always exists\n",
    "- `1` divides both `m` and `n`"
   ]
  },
  {
   "cell_type": "code",
   "execution_count": 1,
   "id": "374239fc-bbdd-44f5-b83b-c89181f2b239",
   "metadata": {},
   "outputs": [],
   "source": [
    "# my (naive) approach\n",
    "def gcd(m,n):\n",
    "    # get factors of both numbers and store them in lists\n",
    "    m_factors = []\n",
    "    n_factors = []\n",
    "    for i in range(1,m+1):\n",
    "        if m % i == 0:\n",
    "            m_factors.append(i)\n",
    "    for i in range(1,n+1):\n",
    "        if n % i == 0:\n",
    "            n_factors.append(i)\n",
    "    # find common factors\n",
    "    common_factors = []\n",
    "    for i in m_factors:\n",
    "        if i in n_factors:\n",
    "            common_factors.append(i)\n",
    "    # return the largest common factor\n",
    "    return common_factors[-1]"
   ]
  },
  {
   "cell_type": "code",
   "execution_count": 3,
   "id": "3f1eba7a-3ea1-48ee-b2b1-6fa04832bc83",
   "metadata": {},
   "outputs": [
    {
     "name": "stdout",
     "output_type": "stream",
     "text": [
      "3\n",
      "3\n",
      "8\n",
      "1\n"
     ]
    }
   ],
   "source": [
    "# check if the function works\n",
    "print(gcd(12,15))\n",
    "print(gcd(9,12))\n",
    "print(gcd(16,24))\n",
    "print(gcd(17,23))"
   ]
  },
  {
   "cell_type": "markdown",
   "id": "c40135ab-7b77-41f4-9194-4e7aaab17b3c",
   "metadata": {},
   "source": [
    "### lecture's approach\n",
    "\n",
    "Computing `gcd(m,n)`\n",
    "- `gcd(m,n) <= min(m,n)`\n",
    "- Compute the list of common factors from 1 to `min(m,n)`\n",
    "- Return the last such common factor\n",
    "\n",
    "```python\n",
    "def gcd(m,n):\n",
    "    cf = [] # list of common factors\n",
    "    for i in range(1, min(m,n)+1):\n",
    "        if (m%i) == 0 and (n%i) == 0:\n",
    "            cf.append(i)\n",
    "    return cf[-1]\n",
    "```"
   ]
  },
  {
   "cell_type": "markdown",
   "id": "365df749-d38d-4bfc-9aea-f426f1b067cd",
   "metadata": {},
   "source": [
    "**Points to note**\n",
    "\n",
    "- Need to initialize `cf` for `cf.append()` to work\n",
    "  - Variables (names) derive their type from the value they hold\n",
    "\n",
    "- Control flow\n",
    "  - Conditionals (`if`)\n",
    "  - Loops (`for`)\n",
    "\n",
    "- `range(i,j)` runs from `i` to `j-1`"
   ]
  }
 ],
 "metadata": {
  "kernelspec": {
   "display_name": "Python 3 (ipykernel)",
   "language": "python",
   "name": "python3"
  },
  "language_info": {
   "codemirror_mode": {
    "name": "ipython",
    "version": 3
   },
   "file_extension": ".py",
   "mimetype": "text/x-python",
   "name": "python",
   "nbconvert_exporter": "python",
   "pygments_lexer": "ipython3",
   "version": "3.12.3"
  },
  "widgets": {
   "application/vnd.jupyter.widget-state+json": {
    "state": {},
    "version_major": 2,
    "version_minor": 0
   }
  }
 },
 "nbformat": 4,
 "nbformat_minor": 5
}
