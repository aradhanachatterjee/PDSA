{
 "cells": [
  {
   "cell_type": "markdown",
   "metadata": {},
   "source": [
    "# Problem 1\n",
    "\n",
    "Write a function `Findpeak(L)` that accepts a list `L` of `n` distinct elements and returns the peak element of the list. A list element is a peak if it is greater than its neighbors. For corner elements, we need to consider only one neighbor. Write an efficient solution of $O(logn)$ complexity. Consider that there is only one peak is in the list, `L`.\n",
    "\n",
    "**Sample Input 1**\n",
    "```python\n",
    "[5,10,20,15]\n",
    "```\n",
    "\n",
    "**Output**\n",
    "```python\n",
    "20\n",
    "```\n",
    "\n",
    "**Sample Input 2**\n",
    "```python\n",
    "[1,2,3,4,5,6,7,8]\n",
    "```\n",
    "\n",
    "**Output**\n",
    "```python\n",
    "8\n",
    "```"
   ]
  },
  {
   "cell_type": "code",
   "execution_count": 6,
   "metadata": {},
   "outputs": [],
   "source": [
    "def Findpeak(L):\n",
    "    def binary_search_peak(L, low, high):\n",
    "        if low == high:\n",
    "            return L[low]\n",
    "        \n",
    "        mid = (low + high) // 2\n",
    "        \n",
    "        # Check if the mid element is greater than its neighbors\n",
    "        if (mid == 0 or L[mid] >= L[mid - 1]) and (mid == len(L) - 1 or L[mid] >= L[mid + 1]):\n",
    "            return L[mid]\n",
    "        # If the left neighbor is greater, then there must be a peak in the left half\n",
    "        elif mid > 0 and L[mid - 1] > L[mid]:\n",
    "            return binary_search_peak(L, low, mid - 1)\n",
    "        # If the right neighbor is greater, then there must be a peak in the right half\n",
    "        else:\n",
    "            return binary_search_peak(L, mid + 1, high)\n",
    "    \n",
    "    return binary_search_peak(L, 0, len(L) - 1)"
   ]
  },
  {
   "cell_type": "code",
   "execution_count": 9,
   "metadata": {},
   "outputs": [
    {
     "data": {
      "text/plain": [
       "8"
      ]
     },
     "execution_count": 9,
     "metadata": {},
     "output_type": "execute_result"
    }
   ],
   "source": [
    "Findpeak([1,2,3,4,5,6,7,8])"
   ]
  },
  {
   "cell_type": "code",
   "execution_count": 8,
   "metadata": {},
   "outputs": [
    {
     "data": {
      "text/plain": [
       "20"
      ]
     },
     "execution_count": 8,
     "metadata": {},
     "output_type": "execute_result"
    }
   ],
   "source": [
    "Findpeak([5,10,20,15])"
   ]
  },
  {
   "cell_type": "markdown",
   "metadata": {},
   "source": [
    "# Problem 2\n",
    "\n",
    "Write a function `findCommonElements(L1, L2)` that accepts two integer lists `L1` and `L2` of same length `n` and return a list that contains elements that are common to both lists. Write a efficient solution that runs in $O(nlogn)$ or better time.\n",
    "\n",
    "`L1` contains all distinct integers and `L2` contains all distinct integers, but there can be many elements common between `L1` and `L2`.\n",
    "Returned list contains all elements that are common to `L1` and `L2`. The elements in the returned list can be in any order.\n",
    "\n",
    "For example:\n",
    "\n",
    "if `L1 = [5, 8, 2]` and `L2 = [6, 8, 1]` then, `findCommonElements(L1, L2)` should return list `[8]`.\n",
    "\n",
    "if `L1 = [3, 7, 2, 9, 5]` and `L2 = [6, 3, 7, 5, 4]` then, `findCommonElements(L1, L2)` should return list `[3, 7, 5]`.\n",
    "\n",
    "**Do not use Python set built-in functions.**\n",
    "\n",
    "**Sample Input 1**\n",
    "```python\n",
    "[23, 24, 18, 22, 20, 10, 17, 12, 16, 19, 21, 15, 14, 11, 13]\n",
    "[23, 22, 33, 24, 31, 21, 20, 26, 30, 29, 25, 27, 28, 34, 32]\n",
    "```\n",
    "\n",
    "**Output**\n",
    "```python\n",
    "[20, 21, 22, 23, 24]\n",
    "```\n",
    "\n",
    "**Sample Input 2**\n",
    "```python\n",
    "[3, 7, 2, 9, 5]\n",
    "[6, 3, 7, 5, 4]\n",
    "```\n",
    "\n",
    "**Output**\n",
    "```python\n",
    "[3, 5, 7]\n",
    "```"
   ]
  },
  {
   "cell_type": "code",
   "execution_count": 12,
   "metadata": {},
   "outputs": [],
   "source": [
    "def findCommonElements(l1,l2):\n",
    "    l1.sort()\n",
    "    l2.sort()\n",
    "\n",
    "    common = []\n",
    "    i, j = 0, 0\n",
    "\n",
    "    while i < len(l1) and j < len(l2):\n",
    "        if l1[i] == l2[j]:\n",
    "            common.append(l1[i])\n",
    "            i += 1\n",
    "            j += 1\n",
    "        elif l1[i] < l2[j]:\n",
    "            i += 1\n",
    "        else:                                                                                                       \n",
    "            j += 1\n",
    "    \n",
    "    return common"
   ]
  },
  {
   "cell_type": "code",
   "execution_count": 13,
   "metadata": {},
   "outputs": [
    {
     "data": {
      "text/plain": [
       "[4, 5]"
      ]
     },
     "execution_count": 13,
     "metadata": {},
     "output_type": "execute_result"
    }
   ],
   "source": [
    "findCommonElements([1,2,3,4,5],[4,5,6,7,8])"
   ]
  },
  {
   "cell_type": "markdown",
   "metadata": {},
   "source": [
    "# Problem 3\n",
    "\n",
    "You have a deck of shuffled cards ranging from 0 to 100,000,000. There are 2 subordinates below you and 2 subordinates below them and so on.\n",
    "- The job of the subordinates is to split the deck of cards that they received and give it to their subordinates. If they receive a deck of cards from their subordinates, they merge it in an ascending order and give it to their superior.\n",
    "- If a subordinate received only two cards, then they will arrange the cards in ascending order and give it to their superior.\n",
    "- If a subordinate received only one card, then they will give it to their superior as it is.\n",
    "\n",
    "```raw\n",
    "Terms:\n",
    "(67) subordinate number 67\n",
    "[1,3,5,2] -> [1,2,3,5] deck of cards -> deck of cards returned\n",
    "\n",
    "-------------------------------\n",
    "\n",
    "(0) [3,1,2,0,5] -> [0,1,2,3,5]\n",
    "|\n",
    "|--(1) [3,1] -> [1,3]\n",
    "|\n",
    "|--(2) [2,0,5] -> [0,2,5]\n",
    "   |\n",
    "   |--(3) [2] -> [2]\n",
    "   |\n",
    "   |--(4) [0,5] -> [0,5]\n",
    "\n",
    "-------------------\n",
    "```\n",
    "\n",
    "Your task is to find how many people (including you) are required to sort the deck of cards and print the sorted deck of cards and the number of people required as a tuple.\n",
    "\n",
    "Write a function **subordinates(L)**:\n",
    "\n",
    "**Sample Input 1**\n",
    "```python\n",
    "[194, 69, 103, 150, 151, 44, 103, 98]\n",
    "```\n",
    "\n",
    "**Output**\n",
    "```python\n",
    "([44, 69, 98, 103, 103, 150, 151, 194], 7)\n",
    "```\n",
    "\n",
    "**Sample Input 2**\n",
    "```python\n",
    "[10, 33, 45, 67, 92, 100, 5]\n",
    "```\n",
    "\n",
    "**Output**\n",
    "```python\n",
    "([5, 10, 33, 45, 67, 92, 100], 7)\n",
    "```"
   ]
  },
  {
   "cell_type": "code",
   "execution_count": 29,
   "metadata": {},
   "outputs": [],
   "source": [
    "def subordinates(L):\n",
    "    people_count = 0\n",
    "    \n",
    "    def merge_sort(deck):\n",
    "        nonlocal people_count\n",
    "        people_count += 1  # Counting the current subordinate\n",
    "        if len(deck) <= 1:\n",
    "            return deck\n",
    "        if len(deck) == 2:\n",
    "            return sorted(deck)\n",
    "        \n",
    "        mid = len(deck) // 2\n",
    "        left_half = merge_sort(deck[:mid])\n",
    "        right_half = merge_sort(deck[mid:])\n",
    "        \n",
    "        return merge(left_half, right_half)\n",
    "    \n",
    "    def merge(left, right):\n",
    "        sorted_list = []\n",
    "        i = j = 0\n",
    "        \n",
    "        while i < len(left) and j < len(right):\n",
    "            if left[i] <= right[j]:\n",
    "                sorted_list.append(left[i])\n",
    "                i += 1\n",
    "            else:\n",
    "                sorted_list.append(right[j])\n",
    "                j += 1\n",
    "        \n",
    "        while i < len(left):\n",
    "            sorted_list.append(left[i])\n",
    "            i += 1\n",
    "        \n",
    "        while j < len(right):\n",
    "            sorted_list.append(right[j])\n",
    "            j += 1\n",
    "        \n",
    "        return sorted_list\n",
    "    \n",
    "    sorted_deck = merge_sort(L)\n",
    "    return sorted_deck, people_count"
   ]
  },
  {
   "cell_type": "code",
   "execution_count": 30,
   "metadata": {},
   "outputs": [
    {
     "data": {
      "text/plain": [
       "([44, 69, 98, 103, 103, 150, 151, 194], 7)"
      ]
     },
     "execution_count": 30,
     "metadata": {},
     "output_type": "execute_result"
    }
   ],
   "source": [
    "subordinates([194, 69, 103, 150, 151, 44, 103, 98])"
   ]
  },
  {
   "cell_type": "code",
   "execution_count": 31,
   "metadata": {},
   "outputs": [
    {
     "data": {
      "text/plain": [
       "([5, 10, 33, 45, 67, 92, 100], 7)"
      ]
     },
     "execution_count": 31,
     "metadata": {},
     "output_type": "execute_result"
    }
   ],
   "source": [
    "subordinates([10, 33, 45, 67, 92, 100, 5])"
   ]
  },
  {
   "cell_type": "markdown",
   "metadata": {},
   "source": [
    "# Problem 4\n",
    "\n",
    "Given a list `L` of random numbers and another number `pairSum`, find whether there exists two numbers in the list such that their sum is equal to `pairSum`.\n",
    "\n",
    "Write a Python function **findPair(L, pairSum)** that return `True` if there exist a pair of integers in `L` whose sum is equal to `x`, `False` otherwise. Try to write a solution which is $O(nlogn)$ or better.\n",
    "\n",
    "\n",
    "**Hint**: Try to sort the list first.\n",
    "\n",
    "\n",
    "For example, consider the below list. We need to find if there exists any pair whose sum is equal to 21. 11+10 = 21. So the function should return True.\n",
    "\n",
    "For the same list, if we want to find if there exist any pair whose sum is equal to 2. Clearly there is no such pair, so the function should return False.\n",
    "\n",
    "\n",
    "**Sample Input 1**\n",
    "\n",
    "```python\n",
    "10 4 11 5 1 8 7\n",
    "21\n",
    "```\n",
    "\n",
    "**Output**\n",
    "\n",
    "```python\n",
    "True\n",
    "```\n",
    "\n",
    "**Sample Input 2**\n",
    "\n",
    "```python\n",
    "10 4 11 5 1 8 7\n",
    "2\n",
    "```\n",
    "\n",
    "**Output**\n",
    "\n",
    "```python\n",
    "False\n",
    "```"
   ]
  },
  {
   "cell_type": "code",
   "execution_count": 32,
   "metadata": {},
   "outputs": [],
   "source": [
    "def findPair(L, pairSum):\n",
    "    L.sort()\n",
    "    \n",
    "    left = 0\n",
    "    right = len(L) - 1\n",
    "    \n",
    "    while left < right:\n",
    "        current_sum = L[left] + L[right]\n",
    "        if current_sum == pairSum:\n",
    "            return True\n",
    "        elif current_sum < pairSum:\n",
    "            left += 1\n",
    "        else:\n",
    "            right -= 1\n",
    "    \n",
    "    return False"
   ]
  },
  {
   "cell_type": "code",
   "execution_count": 33,
   "metadata": {},
   "outputs": [
    {
     "data": {
      "text/plain": [
       "True"
      ]
     },
     "execution_count": 33,
     "metadata": {},
     "output_type": "execute_result"
    }
   ],
   "source": [
    "findPair([10, 4, 11, 5, 1, 8, 7], 21)"
   ]
  },
  {
   "cell_type": "code",
   "execution_count": 34,
   "metadata": {},
   "outputs": [
    {
     "data": {
      "text/plain": [
       "False"
      ]
     },
     "execution_count": 34,
     "metadata": {},
     "output_type": "execute_result"
    }
   ],
   "source": [
    "findPair([10, 4, 11, 5, 1, 8, 7], 2)"
   ]
  }
 ],
 "metadata": {
  "kernelspec": {
   "display_name": "Python 3",
   "language": "python",
   "name": "python3"
  },
  "language_info": {
   "codemirror_mode": {
    "name": "ipython",
    "version": 3
   },
   "file_extension": ".py",
   "mimetype": "text/x-python",
   "name": "python",
   "nbconvert_exporter": "python",
   "pygments_lexer": "ipython3",
   "version": "3.12.3"
  }
 },
 "nbformat": 4,
 "nbformat_minor": 2
}
