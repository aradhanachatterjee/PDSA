{
 "cells": [
  {
   "cell_type": "markdown",
   "metadata": {},
   "source": [
    "# GRPA 1"
   ]
  },
  {
   "cell_type": "markdown",
   "metadata": {},
   "source": [
    "Write a Python function **combinationSort(strList)** that takes a list of unique strings `strList` as an argument, where each string is a combination of a letter from `a` to `z` and a number from `0` to `99`, the initial character in string being the letter. For example `a23`, `d5`, `q99` are some strings in this format. This function should sort the list and return two lists `(L1, L2)` in the order mentioned below.\n",
    "\n",
    "`L1`: First list should contain all strings sorted in ascending order with respect to the first character only. All strings with same initial character should be in the same order as in the original list.\n",
    "\n",
    "`L2`: In the list `L1` above, sort the strings starting with same character, in descending order with respect to the number formed by the remaining characters.\n",
    "\n",
    "**Example**:\n",
    "\n",
    "**Sample input 1**:\n",
    "\n",
    "```python\n",
    "['d34', 'g54', 'd12', 'b87', 'g1', 'c65', 'g40', 'g5', 'd77']\n",
    "```\n",
    "\n",
    "**Sample output 1**:\n",
    "\n",
    "```python\n",
    "L1 = ['b87', 'c65', 'd34', 'd12', 'd77', 'g54', 'g1', 'g40', 'g5']\n",
    "L2 = ['b87', 'c65', 'd77', 'd34', 'd12', 'g54', 'g40', 'g5', 'g1']\n",
    "```"
   ]
  },
  {
   "cell_type": "code",
   "execution_count": 18,
   "metadata": {},
   "outputs": [],
   "source": [
    "strList = ['d34', 'g54', 'd12', 'b87', 'g1', 'c65', 'g40', 'g5', 'd77']"
   ]
  },
  {
   "cell_type": "code",
   "execution_count": 11,
   "metadata": {},
   "outputs": [
    {
     "name": "stdout",
     "output_type": "stream",
     "text": [
      "('d', 34)\n",
      "('g', 54)\n",
      "('d', 12)\n",
      "('b', 87)\n",
      "('g', 1)\n",
      "('c', 65)\n",
      "('g', 40)\n",
      "('g', 5)\n",
      "('d', 77)\n"
     ]
    }
   ],
   "source": [
    "def extract_letter_and_number(s):\n",
    "    letter = s[0]\n",
    "    number = int(s[1:])\n",
    "    return (letter, number)\n",
    "\n",
    "letters_dict = {}\n",
    "\n",
    "# Test the extraction\n",
    "for s in strList:\n",
    "    print(extract_letter_and_number(s))"
   ]
  },
  {
   "cell_type": "code",
   "execution_count": 14,
   "metadata": {},
   "outputs": [
    {
     "name": "stdout",
     "output_type": "stream",
     "text": [
      "{'d': ['d34', 'd12', 'd77'], 'g': ['g54', 'g1', 'g40', 'g5'], 'b': ['b87'], 'c': ['c65']}\n"
     ]
    }
   ],
   "source": [
    "strList = ['d34', 'g54', 'd12', 'b87', 'g1', 'c65', 'g40', 'g5', 'd77']\n",
    "\n",
    "def group_by_initial_character(strList):\n",
    "    groups = {}\n",
    "    for s in strList:\n",
    "        initial_char = s[0]\n",
    "        if initial_char not in groups:\n",
    "            groups[initial_char] = []\n",
    "        groups[initial_char].append(s)\n",
    "    return groups\n",
    "\n",
    "# Test grouping\n",
    "groups = group_by_initial_character(strList)\n",
    "print(groups)"
   ]
  },
  {
   "cell_type": "code",
   "execution_count": 15,
   "metadata": {},
   "outputs": [
    {
     "name": "stdout",
     "output_type": "stream",
     "text": [
      "L1: ['b87', 'c65', 'd34', 'd12', 'd77', 'g54', 'g1', 'g40', 'g5']\n"
     ]
    }
   ],
   "source": [
    "def sort_for_L1(groups):\n",
    "    sorted_keys = sorted(groups.keys())\n",
    "    L1 = []\n",
    "    for key in sorted_keys:\n",
    "        L1.extend(groups[key])\n",
    "    return L1\n",
    "\n",
    "L1 = sort_for_L1(groups)\n",
    "print(\"L1:\", L1)"
   ]
  },
  {
   "cell_type": "code",
   "execution_count": 16,
   "metadata": {},
   "outputs": [
    {
     "name": "stdout",
     "output_type": "stream",
     "text": [
      "L2: ['b87', 'c65', 'd77', 'd34', 'd12', 'g54', 'g40', 'g5', 'g1']\n"
     ]
    }
   ],
   "source": [
    "def sort_for_L2(groups):\n",
    "    sorted_keys = sorted(groups.keys())\n",
    "    L2 = []\n",
    "    for key in sorted_keys:\n",
    "        sorted_group = sorted(groups[key], key=lambda x: int(x[1:]), reverse=True)\n",
    "        L2.extend(sorted_group)\n",
    "    return L2\n",
    "\n",
    "L2 = sort_for_L2(groups)\n",
    "print(\"L2:\", L2)"
   ]
  },
  {
   "cell_type": "code",
   "execution_count": 17,
   "metadata": {},
   "outputs": [
    {
     "name": "stdout",
     "output_type": "stream",
     "text": [
      "L1: ['b87', 'c65', 'd34', 'd12', 'd77', 'g54', 'g1', 'g40', 'g5']\n",
      "L2: ['b87', 'c65', 'd77', 'd34', 'd12', 'g54', 'g40', 'g5', 'g1']\n"
     ]
    }
   ],
   "source": [
    "def combinationSort(strList):\n",
    "    # Step 1: Group by initial character\n",
    "    groups = group_by_initial_character(strList)\n",
    "    \n",
    "    # Step 2: Sort for L1\n",
    "    L1 = sort_for_L1(groups)\n",
    "    \n",
    "    # Step 3: Sort for L2\n",
    "    L2 = sort_for_L2(groups)\n",
    "    \n",
    "    return L1, L2\n",
    "\n",
    "# Test the function\n",
    "strList = ['d34', 'g54', 'd12', 'b87', 'g1', 'c65', 'g40', 'g5', 'd77']\n",
    "L1, L2 = combinationSort(strList)\n",
    "print(\"L1:\", L1)\n",
    "print(\"L2:\", L2)"
   ]
  },
  {
   "cell_type": "markdown",
   "metadata": {},
   "source": [
    "# GRPA 2"
   ]
  },
  {
   "cell_type": "markdown",
   "metadata": {},
   "source": [
    "Complete the python function **findLargest(L)** below, which accepts a list L of unique numbers, that are sorted (ascending) and rotated n times, where n is unknown, and returns the largest number in list `L`. Rotating list `[2, 4, 5, 7, 8]` one time gives us list `[8, 2, 4, 5, 7]`, and rotating the second time gives list `[7, 8, 2, 4, 5]` and so on. Try to give an $O(\\log n)$ solution.\n",
    "\n",
    "Hint: One of the $O(\\log n)$ solutions can be implemented using binary search and using 'first or last' element to know, the direction of searching further.\n",
    "\n",
    "```python\n",
    "# input<L>: List L sorted and rotated.\n",
    "# out: Return the largest number in list L.\n",
    "def findLargest(L):\n",
    "    # Your code goes here\n",
    "```\n",
    "\n",
    "**Sample input:**\n",
    "\n",
    "```python\n",
    "[7, 8, 2, 4, 5]\n",
    "```\n",
    "\n",
    "**Sample output:**\n",
    "\n",
    "```python\n",
    "8\n",
    "```\n",
    "\n",
    "**Note:** Do not use list slicing in Binary search implementation because the list slicing operation is of order $O(n)$."
   ]
  },
  {
   "cell_type": "code",
   "execution_count": 33,
   "metadata": {},
   "outputs": [],
   "source": [
    "def findLargest(L):\n",
    "    low = 0\n",
    "    high = len(L) - 1\n",
    "    while low < high:\n",
    "        mid = (low + high) // 2\n",
    "        if L[mid] > L[high]:\n",
    "            low = mid + 1\n",
    "        else:\n",
    "            high = mid\n",
    "    return L[low]"
   ]
  },
  {
   "cell_type": "code",
   "execution_count": 37,
   "metadata": {},
   "outputs": [
    {
     "name": "stdout",
     "output_type": "stream",
     "text": [
      "5\n"
     ]
    }
   ],
   "source": [
    "def findLargest(L):\n",
    "    low = 0\n",
    "    high = len(L) - 1\n",
    "    \n",
    "    while low < high:\n",
    "        mid = (low + high) // 2\n",
    "        if L[mid] < L[high]:\n",
    "            # The largest element is in the right half\n",
    "            low = mid + 1\n",
    "        else:\n",
    "            # The largest element is in the left half or at mid\n",
    "            high = mid\n",
    "    \n",
    "    # At the end of the loop, low == high, pointing to the largest element\n",
    "    return L[low]\n",
    "\n",
    "# Sample input\n",
    "print(findLargest([7, 8, 2, 4, 5]))  # Output should be 8"
   ]
  },
  {
   "cell_type": "code",
   "execution_count": 39,
   "metadata": {},
   "outputs": [
    {
     "name": "stdout",
     "output_type": "stream",
     "text": [
      "8\n"
     ]
    }
   ],
   "source": [
    "def findLargest(L):\n",
    "    low = 0\n",
    "    high = len(L) - 1\n",
    "    \n",
    "    while low < high:\n",
    "        mid = (low + high) // 2\n",
    "        if L[mid] > L[high]:\n",
    "            # The largest element is in the right half\n",
    "            low = mid + 1\n",
    "        else:\n",
    "            # The largest element is in the left half or at mid\n",
    "            high = mid\n",
    "    \n",
    "    # At the end of the loop, low == high, pointing to the largest element\n",
    "    return L[high - 1] if high > 0 and L[high] < L[high - 1] else L[high]\n",
    "\n",
    "# Sample input\n",
    "print(findLargest([7, 8, 2, 4, 5]))  # Output should be 8"
   ]
  },
  {
   "cell_type": "code",
   "execution_count": 34,
   "metadata": {},
   "outputs": [
    {
     "data": {
      "text/plain": [
       "1"
      ]
     },
     "execution_count": 34,
     "metadata": {},
     "output_type": "execute_result"
    }
   ],
   "source": [
    "findLargest([7, 8, 9, 10, 1, 2, 3, 4, 5, 6])"
   ]
  },
  {
   "cell_type": "code",
   "execution_count": 32,
   "metadata": {},
   "outputs": [
    {
     "data": {
      "text/plain": [
       "2"
      ]
     },
     "execution_count": 32,
     "metadata": {},
     "output_type": "execute_result"
    }
   ],
   "source": [
    "findLargest([7, 8, 2, 4, 5])"
   ]
  },
  {
   "cell_type": "code",
   "execution_count": 40,
   "metadata": {},
   "outputs": [
    {
     "name": "stdout",
     "output_type": "stream",
     "text": [
      "8\n"
     ]
    }
   ],
   "source": [
    "def findLargest(L):\n",
    "    left, right = 0, len(L) - 1\n",
    "\n",
    "    if L[left] < L[right]:\n",
    "        return L[right]\n",
    "    \n",
    "    while left <= right:\n",
    "        mid = (left + right) // 2\n",
    "        \n",
    "        # Check if mid is the largest element\n",
    "\n",
    "        if mid < len(L) - 1 and L[mid] > L[mid + 1]:\n",
    "            return L[mid]\n",
    "        if mid > 0 and L[mid] < L[mid - 1]:\n",
    "            return L[mid - 1]\n",
    "        \n",
    "        # Determine which part of the list to search next\n",
    "        if L[mid] >= L[left]:\n",
    "            # If the mid element is greater than the leftmost element, the largest is to the right\n",
    "            left = mid + 1\n",
    "        else:\n",
    "            # If the mid element is less than the leftmost element, the largest is to the left\n",
    "            right = mid - 1\n",
    "    \n",
    "    # If the while loop ends, the list was not rotated\n",
    "    return L[0]\n",
    "\n",
    "# Sample input\n",
    "print(findLargest([7, 8, 2, 4, 5]))"
   ]
  },
  {
   "cell_type": "markdown",
   "metadata": {},
   "source": [
    "# GRPA 3"
   ]
  },
  {
   "cell_type": "markdown",
   "metadata": {},
   "source": [
    "Merging two sorted arrays in place.\n",
    "\n",
    "Given a custom implementation of list named `MyList`. On `MyList` objects you can perform read operations similar to the in-build lists in Python, example use `A[i]` to read element at index `i` in `MyList` object `A`. The only possible operation that you can use to edit data in `MyList` objects is by calling the `swap` method. For instance, `A.swap(indexA, B, indexB)` will swap values at `A[indexA]` and `B[indexB]` and `A.swap(index1, A, index2)` will swap values at `A[index1]` and `A[index2]`, where `indexA`, `indexB`, `index1`, `index2` are all integers.\n",
    "\n",
    "Complete the Python function `mergeInPlace(A, B)` that accepts two `MyLists` `A` and `B` containing integers that are sorted in ascending order and merges them in place(without using any other list) such that after merging, `A` and `B` are still sorted in ascending order with the smallest element of both `MyLists` as the first element of `A`.\n",
    "\n",
    "```python\n",
    "# Complete this function\n",
    "def mergeInPlace(A, B):\n",
    "    # Your code goes here\n",
    "```\n",
    "\n",
    "**Note: Your function should not return any list and should only merge the given sorted lists inplace.** \n",
    "\n",
    "**Sample Input:**\n",
    "\n",
    "```python\n",
    "[2, 4, 6, 9, 13, 15]\n",
    "[1, 3, 5, 10]\n",
    "```\n",
    "\n",
    "**Sample Output:**\n",
    "\n",
    "```python\n",
    "[1, 2, 3, 4, 5, 6]\n",
    "[9, 10, 13, 15]\n",
    "```\n",
    "\n",
    "**Sample Input:**\n",
    "\n",
    "```python\n",
    "[4, 6]\n",
    "[1, 3, 6, 10]\n",
    "```\n",
    "\n",
    "**Sample Output:**\n",
    "\n",
    "```python\n",
    "[1, 3]\n",
    "[4, 6, 6, 10]\n",
    "```"
   ]
  },
  {
   "cell_type": "code",
   "execution_count": 41,
   "metadata": {},
   "outputs": [],
   "source": [
    "A = [2, 4, 6, 9, 13, 15]\n",
    "B = [1, 3, 5, 10]"
   ]
  },
  {
   "cell_type": "code",
   "execution_count": 43,
   "metadata": {},
   "outputs": [
    {
     "name": "stdout",
     "output_type": "stream",
     "text": [
      "[1, 3, 5, 9, 13, 15]\n",
      "[2, 4, 6, 10]\n"
     ]
    }
   ],
   "source": [
    "A = [2, 4, 6, 9, 13, 15]\n",
    "B = [1, 3, 5, 10]\n",
    "\n",
    "for i in range(len(B)):\n",
    "    if A[i] > B[i]:\n",
    "        # Swap the elements\n",
    "        A[i], B[i] = B[i], A[i]\n",
    "\n",
    "print(A)\n",
    "print(B)"
   ]
  },
  {
   "cell_type": "code",
   "execution_count": 47,
   "metadata": {},
   "outputs": [
    {
     "name": "stdout",
     "output_type": "stream",
     "text": [
      "[2, 4, 6, 9, 13, 15]\n",
      "[1, 3, 5, 10]\n",
      "[1, 4, 6, 9, 13, 15]\n",
      "[2, 3, 5, 10]\n",
      "[1, 2, 6, 9, 13, 15]\n",
      "[4, 3, 5, 10]\n"
     ]
    }
   ],
   "source": [
    "A = [2, 4, 6, 9, 13, 15]\n",
    "B = [1, 3, 5, 10]\n",
    "print(A)\n",
    "print(B)\n",
    "\n",
    "for i in range(2):\n",
    "    if A[i] > B[i]:\n",
    "        # Swap the elements\n",
    "        A[i], B[i] = B[i], A[i]\n",
    "        print(A)\n",
    "        print(B)\n",
    "        if B[i] < A[i + 1]:\n",
    "            # Swap the elements\n",
    "            A[i + 1], B[i] = B[i], A[i + 1]\n",
    "            print(A)\n",
    "            print(B)"
   ]
  },
  {
   "cell_type": "code",
   "execution_count": null,
   "metadata": {},
   "outputs": [],
   "source": [
    "def mergeInPlace(A, B):\n",
    "    num_of_swaps = min(len(A), len(B))\n",
    "    for i in range (num_of_swaps):\n",
    "        if A[i] > B[i]:\n",
    "            A[i], B[i] = B[i], A[i]"
   ]
  },
  {
   "cell_type": "code",
   "execution_count": 53,
   "metadata": {},
   "outputs": [
    {
     "name": "stdout",
     "output_type": "stream",
     "text": [
      "[1, 2, 3, 4, 5, 6]\n",
      "[9, 10, 13, 15]\n"
     ]
    }
   ],
   "source": [
    "class MyList:\n",
    "    def __init__(self, data):\n",
    "        self.data = data\n",
    "\n",
    "    def __len__(self):\n",
    "        return len(self.data)\n",
    "    \n",
    "    def __getitem__(self, index):\n",
    "        return self.data[index]\n",
    "    \n",
    "    def __setitem__(self, index, value):\n",
    "        self.data[index] = value\n",
    "    \n",
    "    def swap(self, indexA, other, indexB):\n",
    "        self.data[indexA], other.data[indexB] = other.data[indexB], self.data[indexA]\n",
    "\n",
    "def mergeInPlace(A, B):\n",
    "    i = 0\n",
    "    j = 0\n",
    "    while i < len(A) and j < len(B):\n",
    "        if A[i] > B[j]:\n",
    "            A.swap(i, B, j)\n",
    "            # After swapping, we need to make sure the swapped element is in the correct place in B\n",
    "            # Insertion sort like approach to place the element in correct position in B\n",
    "            temp_j = j\n",
    "            while temp_j + 1 < len(B) and B[temp_j] > B[temp_j + 1]:\n",
    "                B.swap(temp_j, B, temp_j + 1)\n",
    "                temp_j += 1\n",
    "        i += 1\n",
    "\n",
    "# Sample usage\n",
    "A = MyList([2, 4, 6, 9, 13, 15])\n",
    "B = MyList([1, 3, 5, 10])\n",
    "mergeInPlace(A, B)\n",
    "print(A.data)  # Should output: [1, 2, 3, 4, 5, 6]\n",
    "print(B.data)  # Should output: [9, 10, 13, 15]\n",
    "\n"
   ]
  },
  {
   "cell_type": "code",
   "execution_count": 54,
   "metadata": {},
   "outputs": [
    {
     "name": "stdout",
     "output_type": "stream",
     "text": [
      "[1, 3]\n",
      "[4, 6, 6, 10]\n"
     ]
    }
   ],
   "source": [
    "A = MyList([4, 6])\n",
    "B = MyList([1, 3, 6, 10])\n",
    "mergeInPlace(A, B)\n",
    "print(A.data)  # Should output: [1, 3]\n",
    "print(B.data)  # Should output: [4, 6, 6, 10]"
   ]
  }
 ],
 "metadata": {
  "kernelspec": {
   "display_name": "Python 3",
   "language": "python",
   "name": "python3"
  },
  "language_info": {
   "codemirror_mode": {
    "name": "ipython",
    "version": 3
   },
   "file_extension": ".py",
   "mimetype": "text/x-python",
   "name": "python",
   "nbconvert_exporter": "python",
   "pygments_lexer": "ipython3",
   "version": "3.12.3"
  }
 },
 "nbformat": 4,
 "nbformat_minor": 2
}
