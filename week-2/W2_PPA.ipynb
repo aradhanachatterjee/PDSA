{
 "cells": [
  {
   "cell_type": "markdown",
   "metadata": {},
   "source": [
    "# PPA 1\n",
    "\n",
    "Binary search\n",
    "\n",
    "Write a Python function `binarySearchIndexAndComparisons(L, k)` that accepts a list `L` sorted in ascending order and an integer `k` and returns a tuple (True/False, numComparisons). The first part of this tuple will be `True` if integer `k` is present in list `L`, `False` otherwise. The second part of the tuple is an integer which gives the number of elements in `L` that are actually compared to `k` while searching `k` in the list `L` using **binary search**.\n",
    "\n",
    "For consistency use `(left+right)//2` to calculate the middle index.\n",
    "\n",
    "**Example**:\n",
    "\n",
    "For given `L` and `k`, your function should return as mentioned in the table below.\n",
    "\n",
    "`L = [2, 6, 8, 11, 17, 23, 33, 44, 46, 50, 65]`, list is same for all examples below.\n",
    "\n",
    "| **k** | **Return** |\n",
    "|-------|------------|\n",
    "| 11    | (True, 3)  |\n",
    "| 23    | (True, 1)  |\n",
    "| 100   | (False, 4) |"
   ]
  },
  {
   "cell_type": "code",
   "execution_count": 21,
   "metadata": {},
   "outputs": [],
   "source": [
    "def binarySearchIndexAndComparisons(L,k):\n",
    "    numComparisons = 0\n",
    "    while len(L) > 0:\n",
    "        numComparisons += 1\n",
    "        left = 0\n",
    "        right = len(L) - 1\n",
    "        mid = (left+right)//2\n",
    "        if k == L[mid]:\n",
    "            return(True, numComparisons)\n",
    "        else:\n",
    "            if k <= L[mid]:\n",
    "                L = L[0:mid]\n",
    "            else:\n",
    "                L = L[mid+1:]\n",
    "    return(False, numComparisons)\n",
    "    \n",
    "    "
   ]
  },
  {
   "cell_type": "code",
   "execution_count": 22,
   "metadata": {},
   "outputs": [],
   "source": [
    "L = [2, 6, 8, 11, 17, 23, 33, 44, 46, 50, 65]"
   ]
  },
  {
   "cell_type": "code",
   "execution_count": 26,
   "metadata": {},
   "outputs": [
    {
     "data": {
      "text/plain": [
       "(False, 4)"
      ]
     },
     "execution_count": 26,
     "metadata": {},
     "output_type": "execute_result"
    }
   ],
   "source": [
    "binarySearchIndexAndComparisons(L, 100)"
   ]
  },
  {
   "cell_type": "markdown",
   "metadata": {},
   "source": [
    "# PPA 2\n",
    "\n",
    "Consider a list `L` containing `n` integers, where each integer `i` is in the range `[O, r)` that is `0 <= i < r`, `r < 1000` and `n >> r` (n is much greater than r). Write a Python function `sortInRange(L, r)` to sort the list `L` in ascending order. Try to write a solution that runs in $O(n + r)$ asymptotic complexity.\n",
    "\n",
    "**Sample Input:**\n",
    "```python\n",
    "L = [2, 0, 1, 1, 2, 3, 0, 2, 1, 0, 2, 3, 1, 2]\n",
    "r = 4\n",
    "```\n",
    "\n",
    "**Sample Output:**\n",
    "```python\n",
    "0, 0, 0, 1, 1, 1, 1, 2, 2, 2, 2, 2, 3, 3\n",
    "```\n",
    "\n",
    "**Note**: In the function, no need to return any list, just sort input list `L` in place."
   ]
  },
  {
   "cell_type": "code",
   "execution_count": 31,
   "metadata": {},
   "outputs": [],
   "source": [
    "def sortInRange(L, r):\n",
    "    count = [0] * (r)\n",
    "    for i in L:\n",
    "        count[i] += 1\n",
    "    index = 0\n",
    "    for i in range(r):\n",
    "        while count[i] > 0:\n",
    "            L[index] = i\n",
    "            index += 1\n",
    "            count[i] -= 1"
   ]
  },
  {
   "cell_type": "code",
   "execution_count": 32,
   "metadata": {},
   "outputs": [],
   "source": [
    "L = [2, 0, 1, 1, 2, 3, 0, 2, 1, 0, 2, 3, 1, 2]\n",
    "r = 4"
   ]
  },
  {
   "cell_type": "code",
   "execution_count": 33,
   "metadata": {},
   "outputs": [
    {
     "name": "stdout",
     "output_type": "stream",
     "text": [
      "[0, 0, 0, 1, 1, 1, 1, 2, 2, 2, 2, 2, 3, 3]\n"
     ]
    }
   ],
   "source": [
    "sortInRange(L, r)\n",
    "print(L)"
   ]
  },
  {
   "cell_type": "code",
   "execution_count": null,
   "metadata": {},
   "outputs": [],
   "source": []
  }
 ],
 "metadata": {
  "kernelspec": {
   "display_name": "Python 3",
   "language": "python",
   "name": "python3"
  },
  "language_info": {
   "codemirror_mode": {
    "name": "ipython",
    "version": 3
   },
   "file_extension": ".py",
   "mimetype": "text/x-python",
   "name": "python",
   "nbconvert_exporter": "python",
   "pygments_lexer": "ipython3",
   "version": "3.12.3"
  }
 },
 "nbformat": 4,
 "nbformat_minor": 2
}
