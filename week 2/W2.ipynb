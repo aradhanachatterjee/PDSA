{
 "cells": [
  {
   "cell_type": "code",
   "execution_count": 1,
   "id": "effdb353-c9b5-411f-a31d-fc0950c79a3d",
   "metadata": {},
   "outputs": [],
   "source": [
    "def maxElement(L):\n",
    "    maxval = L[0]\n",
    "    for i in range(len(L)):\n",
    "        if L[i] > maxval:\n",
    "            maxval = L[i]\n",
    "    return maxval"
   ]
  },
  {
   "cell_type": "code",
   "execution_count": 2,
   "id": "e8690929-6d61-43f7-8296-f4b9f227735b",
   "metadata": {},
   "outputs": [],
   "source": [
    "def noDuplicates(L):\n",
    "    for i in range(len(L)):\n",
    "        for j in range(i+1, len(L)):\n",
    "            if L[i] == L[j]:\n",
    "                return False\n",
    "    return True"
   ]
  },
  {
   "cell_type": "code",
   "execution_count": 3,
   "id": "23f7bde6-f869-49da-9c4f-519c5b573efb",
   "metadata": {},
   "outputs": [],
   "source": [
    "def matrixMultiply(A, B):\n",
    "    (m, n, p) = (len(A), len(B), len(B[0]))\n",
    "    C = [[0 for i in range(p)]\n",
    "            for j in range(m)]\n",
    "    for i in range(m):\n",
    "        for j in range(p):\n",
    "            for k in range(n):\n",
    "                C[i][j] = C[i][j] + A[i][k] * B[k][j]\n",
    "    return C"
   ]
  },
  {
   "cell_type": "code",
   "execution_count": 4,
   "id": "671c0b3d-7f83-43b2-8547-b9999a3f8c1d",
   "metadata": {},
   "outputs": [],
   "source": [
    "def numberOfBits(n):\n",
    "    count = 1\n",
    "    while n > 1:\n",
    "        count += 1\n",
    "        n = n // 2\n",
    "    return count"
   ]
  },
  {
   "cell_type": "code",
   "execution_count": 5,
   "id": "3639c213-8682-4d87-a159-eab9b32022ee",
   "metadata": {},
   "outputs": [],
   "source": [
    "def naivesearch(v, l):\n",
    "    for x in l:\n",
    "        if v == x:\n",
    "            return True\n",
    "    return False"
   ]
  },
  {
   "cell_type": "code",
   "execution_count": 6,
   "id": "6e0f4a4c-632b-4a82-ad35-3341247fe76c",
   "metadata": {},
   "outputs": [],
   "source": [
    "def binarysearch(v, l):\n",
    "    if l == []:\n",
    "        return False\n",
    "    m = len(l) // 2\n",
    "    if v == l[m]:\n",
    "        return True\n",
    "    if v < l[m]:\n",
    "        return binarysearch(v, l[:m])\n",
    "    else:\n",
    "        return binarysearch(v, l[m+1:])"
   ]
  },
  {
   "cell_type": "code",
   "execution_count": 7,
   "id": "0fb1d1a9-cf73-4335-8123-2802ef1ba8a2",
   "metadata": {},
   "outputs": [],
   "source": [
    "def SelectionSort(L):\n",
    "    n = len(L)\n",
    "    if n<1:\n",
    "        return L\n",
    "    for i in range(n):\n",
    "        # Assume L[:i] is sorted\n",
    "        mpos = i\n",
    "        # mpos: position of minimum in L[i:]\n",
    "        for j in range(i+1,n):\n",
    "            if L[j] < L[mpos]:\n",
    "                mpos = j\n",
    "        # L[mpos]: smallest value in L[i:]\n",
    "        # Exchange L[mpos] and L[i]\n",
    "        (L[i], L[mpos]) = (L[mpos], L[i])\n",
    "        # Now L[:i+1] is sorted\n",
    "    return L"
   ]
  },
  {
   "cell_type": "code",
   "execution_count": 8,
   "id": "6c321261-6b76-4551-8604-ae451d971a2b",
   "metadata": {},
   "outputs": [],
   "source": [
    "def InsertionSort(L):\n",
    "    n = len(L)\n",
    "    if n<1:\n",
    "        return(L)\n",
    "    for i in range(n):\n",
    "        # Assume L[:i] is sorted\n",
    "        # Move L[i] to correct position in L\n",
    "        j = i\n",
    "        while (j>0 and L[j] < L[j-1]):\n",
    "            (L[j],L[j-1]) = (L[j-1],L[j])\n",
    "            j = j-1\n",
    "            # Now L[:i+1] is sorted\n",
    "    return L"
   ]
  },
  {
   "cell_type": "code",
   "execution_count": 9,
   "id": "80438bbf-1cb5-4819-a684-4072f2ac3f19",
   "metadata": {},
   "outputs": [],
   "source": [
    "def Insert(L, v):\n",
    "    n = len(L)\n",
    "    if n == 0:\n",
    "        return([v])\n",
    "    if v >= L[-1]:\n",
    "        return(L+[v])\n",
    "    else:\n",
    "        return(Insert(L[:-1],v)+L[-1:])\n",
    "\n",
    "def ISort(L):\n",
    "    n = len(L)\n",
    "    if n < 1:\n",
    "        return(L)\n",
    "    L = Insert(ISort(L[:-1]),L[-1])\n",
    "    return L"
   ]
  },
  {
   "cell_type": "code",
   "execution_count": 10,
   "id": "c4628a27-8ff9-41b4-a01e-0bb87addf009",
   "metadata": {},
   "outputs": [],
   "source": [
    "def Merge(A,B):\n",
    "    (m, n) = (len(A), len(B))\n",
    "    (C, i, j, k) = ([], 0, 0, 0)\n",
    "    while k < m+n:\n",
    "        if i == m:\n",
    "            C.extend(B[j:])\n",
    "            k = k + (n - j)\n",
    "        elif j == n:\n",
    "            C.extend(A[i:])\n",
    "            k = k + (n - i)\n",
    "        elif A[i] < B[j]:\n",
    "            C.append(A[i])\n",
    "            (i, k) = (i + 1, k + 1)\n",
    "        else:\n",
    "            C.append(B[j])\n",
    "            (j, k) = (j + 1, k + 1)\n",
    "    return C"
   ]
  },
  {
   "cell_type": "code",
   "execution_count": 12,
   "id": "9e213996-f106-43e6-9ebd-810fb531feec",
   "metadata": {},
   "outputs": [],
   "source": [
    "def MergeSort(A):\n",
    "    n = len(A)\n",
    "\n",
    "    if n <= 1:\n",
    "        return A\n",
    "\n",
    "    L = MergeSort(A[:n//2])\n",
    "    R = MergeSort(A[n//2:])\n",
    "\n",
    "    B = Merge(L, R)\n",
    "\n",
    "    return(B)"
   ]
  },
  {
   "cell_type": "code",
   "execution_count": null,
   "id": "302ecf78-fa35-4b44-adb3-92ed9c837eed",
   "metadata": {},
   "outputs": [],
   "source": []
  },
  {
   "cell_type": "code",
   "execution_count": null,
   "id": "9d40dbae-94a7-4b52-b180-69eb750f78d0",
   "metadata": {},
   "outputs": [],
   "source": []
  },
  {
   "cell_type": "code",
   "execution_count": null,
   "id": "05c001a5-db2a-4c78-b78f-45c469cdbf00",
   "metadata": {},
   "outputs": [],
   "source": []
  },
  {
   "cell_type": "code",
   "execution_count": null,
   "id": "0b7f7d6b-e666-47db-9be9-89d7da707707",
   "metadata": {},
   "outputs": [],
   "source": []
  }
 ],
 "metadata": {
  "kernelspec": {
   "display_name": "Python 3 (ipykernel)",
   "language": "python",
   "name": "python3"
  },
  "language_info": {
   "codemirror_mode": {
    "name": "ipython",
    "version": 3
   },
   "file_extension": ".py",
   "mimetype": "text/x-python",
   "name": "python",
   "nbconvert_exporter": "python",
   "pygments_lexer": "ipython3",
   "version": "3.11.4"
  },
  "widgets": {
   "application/vnd.jupyter.widget-state+json": {
    "state": {},
    "version_major": 2,
    "version_minor": 0
   }
  }
 },
 "nbformat": 4,
 "nbformat_minor": 5
}
